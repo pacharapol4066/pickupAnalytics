{
 "cells": [
  {
   "cell_type": "code",
   "execution_count": 1,
   "id": "2655334c",
   "metadata": {},
   "outputs": [],
   "source": [
    "import pandas as pd\n",
    "import sys\n",
    "from datetime import datetime\n",
    "from IPython.display import clear_output"
   ]
  },
  {
   "cell_type": "code",
   "execution_count": 2,
   "id": "13e7f82b",
   "metadata": {},
   "outputs": [],
   "source": [
    "def iterate_Row_by_key(keyword, textlist, startpos):\n",
    "    '''\n",
    "    USAGE : iterate_Row_by_key(keyword, textlist, startpos)\n",
    "    - Use for replace row in column when that column has both relevant and irrelevant value \n",
    "    e.g. iterate_Row_by_key('ภาค', sheet1_df.iloc[:, 1], 0)\n",
    "    Need to replace row in column with text keyword\n",
    "    ------------------------------------\n",
    "    ภาคเหนือ            ภาคเหนือ\n",
    "    1/23               ภาคเหนือ\n",
    "    3-02         ==>   ภาคเหนือ\n",
    "    5.7          ==>   ภาคเหนือ\n",
    "    ภาคกลาง            ภาคกลาง\n",
    "    10                 ภาคกลาง\n",
    "    ------------------------------------\n",
    "    '''\n",
    "    newTxtList = []\n",
    "    for pos in textlist:\n",
    "        if str(pos).startswith(keyword):\n",
    "            newTxtList.append(str(pos))\n",
    "        else:\n",
    "            newTxtList.append(newTxtList[startpos - 1])\n",
    "        startpos += 1\n",
    "    return newTxtList"
   ]
  },
  {
   "cell_type": "code",
   "execution_count": 3,
   "id": "a6096211",
   "metadata": {},
   "outputs": [],
   "source": [
    "fileNames = ['2018','2019','2020','2021','2022']"
   ]
  },
  {
   "cell_type": "code",
   "execution_count": 4,
   "id": "ea13cc6c",
   "metadata": {},
   "outputs": [],
   "source": [
    "sheetNames = ['มกราคม','กุมภาพันธ์','มีนาคม','เมษายน','พฤษภาคม','มิถุนายน'\n",
    "              ,'กรกฎาคม','สิงหาคม','กันยายน','ตุลาคม','พฤศจิกายน','ธันวาคม']"
   ]
  },
  {
   "cell_type": "code",
   "execution_count": 5,
   "id": "9b4b1e63",
   "metadata": {},
   "outputs": [],
   "source": [
    "cars = ['D-MAX','Hilux Revo','HILUX REVO','NAVARA','TRITON','RANGER','RANGER RAPTOR','MAZDA BT-50','MAZDA BT50','COLORADO C-CAB']"
   ]
  },
  {
   "cell_type": "code",
   "execution_count": 6,
   "id": "dd0e45c2",
   "metadata": {
    "scrolled": true
   },
   "outputs": [
    {
     "name": "stdout",
     "output_type": "stream",
     "text": [
      "File 2022 sheet พฤศจิกายน Car COLORADO C-CAB\n"
     ]
    }
   ],
   "source": [
    "df_all = pd.DataFrame()\n",
    "\n",
    "for f in fileNames:\n",
    "    for c in cars:\n",
    "        for s in sheetNames:\n",
    "            print('File',f,'sheet',s,'Car',c)\n",
    "            try:\n",
    "                df = pd.read_excel(f+'.xls', header=3, sheet_name=s)\n",
    "                df = df[(df['รุ่นรถ'] == c) | (df['ยี่ห้อรถ'].str.contains(\"ประเภทรถ\"))][['ยี่ห้อรถ','รุ่นรถ','จำนวนรถ']]\n",
    "                df['ยี่ห้อรถ'] = iterate_Row_by_key('ประเภทรถ', df.iloc[:, 0], 0)\n",
    "                df = df.dropna()\n",
    "                df.insert(0,'เดือน',s)\n",
    "                df.insert(0,'ปี',f)\n",
    "                df_all = df_all.append(df)\n",
    "            except Exception:\n",
    "                break\n",
    "            clear_output(wait=True)"
   ]
  },
  {
   "cell_type": "code",
   "execution_count": 7,
   "id": "7bd904d0",
   "metadata": {},
   "outputs": [],
   "source": [
    "def getMonthNum(monthName):\n",
    "    if monthName == sheetNames[0]:\n",
    "        return 1\n",
    "    elif monthName == sheetNames[1]:\n",
    "        return 2\n",
    "    elif monthName == sheetNames[2]:\n",
    "        return 3\n",
    "    elif monthName == sheetNames[3]:\n",
    "        return 4\n",
    "    elif monthName == sheetNames[4]:\n",
    "        return 5\n",
    "    elif monthName == sheetNames[5]:\n",
    "        return 6\n",
    "    elif monthName == sheetNames[6]:\n",
    "        return 7\n",
    "    elif monthName == sheetNames[7]:\n",
    "        return 8\n",
    "    elif monthName == sheetNames[8]:\n",
    "        return 9\n",
    "    elif monthName == sheetNames[9]:\n",
    "        return 10\n",
    "    elif monthName == sheetNames[10]:\n",
    "        return 11\n",
    "    elif monthName == sheetNames[11]:\n",
    "        return 12"
   ]
  },
  {
   "cell_type": "code",
   "execution_count": 8,
   "id": "892fdf0d",
   "metadata": {},
   "outputs": [],
   "source": [
    "df_all['DATE'] = df_all.apply(lambda x: datetime.strptime('28' + '/' +\n",
    "                    str(getMonthNum(x['เดือน'])) + '/' + x['ปี'], '%d/%m/%Y'), axis=1)"
   ]
  },
  {
   "cell_type": "code",
   "execution_count": 9,
   "id": "50693195",
   "metadata": {},
   "outputs": [],
   "source": [
    "df_all.to_excel('data.xlsx', index=False)"
   ]
  }
 ],
 "metadata": {
  "kernelspec": {
   "display_name": "Python 3",
   "language": "python",
   "name": "python3"
  },
  "language_info": {
   "codemirror_mode": {
    "name": "ipython",
    "version": 3
   },
   "file_extension": ".py",
   "mimetype": "text/x-python",
   "name": "python",
   "nbconvert_exporter": "python",
   "pygments_lexer": "ipython3",
   "version": "3.8.8"
  }
 },
 "nbformat": 4,
 "nbformat_minor": 5
}
