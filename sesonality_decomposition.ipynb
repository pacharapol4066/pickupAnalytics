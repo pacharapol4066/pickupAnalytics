{
 "cells": [
  {
   "cell_type": "code",
   "execution_count": 1,
   "id": "b9edd53a",
   "metadata": {},
   "outputs": [],
   "source": [
    "import pandas as pd\n",
    "from statsmodels.tsa.seasonal import seasonal_decompose\n",
    "from IPython.display import clear_output"
   ]
  },
  {
   "cell_type": "code",
   "execution_count": 2,
   "id": "433a0905",
   "metadata": {},
   "outputs": [],
   "source": [
    "cars = ['D-MAX','Hilux Revo','HILUX REVO','NAVARA','TRITON','RANGER','RANGER RAPTOR','MAZDA BT-50','MAZDA BT50','COLORADO C-CAB']"
   ]
  },
  {
   "cell_type": "code",
   "execution_count": 3,
   "id": "f05955e0",
   "metadata": {},
   "outputs": [],
   "source": [
    "df_all = pd.read_excel('data.xlsx')"
   ]
  },
  {
   "cell_type": "code",
   "execution_count": 4,
   "id": "78030034",
   "metadata": {},
   "outputs": [],
   "source": [
    "df_all = df_all.rename(columns={'จำนวนรถ':'vehNumber', 'รุ่นรถ':'carModel'})"
   ]
  },
  {
   "cell_type": "code",
   "execution_count": 5,
   "id": "f9bc2df6",
   "metadata": {},
   "outputs": [],
   "source": [
    "df_all_sum = df_all.groupby('DATE').sum()"
   ]
  },
  {
   "cell_type": "code",
   "execution_count": 6,
   "id": "b806ad1e",
   "metadata": {},
   "outputs": [],
   "source": [
    "df_all_sum = df_all_sum.drop('ปี', axis=1)"
   ]
  },
  {
   "cell_type": "code",
   "execution_count": 7,
   "id": "89fa33bb",
   "metadata": {},
   "outputs": [],
   "source": [
    "result=seasonal_decompose(df_all_sum['vehNumber'], model='multiplicative', period=12)"
   ]
  },
  {
   "cell_type": "code",
   "execution_count": 9,
   "id": "b4af62d8",
   "metadata": {},
   "outputs": [],
   "source": [
    "result.trend.to_csv('Reports/trend_decompose.csv')\n",
    "result.seasonal.to_csv('Reports/seasonal_decompose.csv')"
   ]
  },
  {
   "cell_type": "markdown",
   "id": "fc15b3d5",
   "metadata": {},
   "source": [
    "วัดรายยี่ห้อ"
   ]
  },
  {
   "cell_type": "code",
   "execution_count": 10,
   "id": "1367de95",
   "metadata": {},
   "outputs": [],
   "source": [
    "df_sum_by_brand = df_all.groupby(['DATE','carModel']).sum()\n",
    "df_sum_by_brand = df_sum_by_brand.drop('ปี', axis=1)\n",
    "df_sum_by_brand = df_sum_by_brand.dropna().reset_index('carModel')"
   ]
  },
  {
   "cell_type": "code",
   "execution_count": 11,
   "id": "29dc03bd",
   "metadata": {},
   "outputs": [
    {
     "name": "stdout",
     "output_type": "stream",
     "text": [
      "COLORADO C-CAB\n"
     ]
    }
   ],
   "source": [
    "df_output = pd.DataFrame(columns=['DATE','carModel','trend'])\n",
    "\n",
    "for i,e in enumerate(cars,0):\n",
    "    print(e)\n",
    "    df = df_sum_by_brand[df_sum_by_brand.carModel == e]\n",
    "    result1 = seasonal_decompose(df['vehNumber'], model='multiplicative', period=12)\n",
    "    df_result = pd.DataFrame(result1.trend).reset_index()\n",
    "    df_result.insert(1, 'carModel',e)\n",
    "    df_result = df_result.dropna()\n",
    "    df_output = df_output.append(df_result)\n",
    "    clear_output(wait=True)"
   ]
  },
  {
   "cell_type": "code",
   "execution_count": 13,
   "id": "ba16aecf",
   "metadata": {},
   "outputs": [],
   "source": [
    "df_output.to_csv('Reports/trend_decompose_byBrand.csv')"
   ]
  },
  {
   "cell_type": "code",
   "execution_count": 14,
   "id": "085eaa96",
   "metadata": {},
   "outputs": [
    {
     "name": "stdout",
     "output_type": "stream",
     "text": [
      "COLORADO C-CAB\n"
     ]
    }
   ],
   "source": [
    "df_output = pd.DataFrame(columns=['DATE','carModel','trend'])\n",
    "\n",
    "for i,e in enumerate(cars,0):\n",
    "    print(e)\n",
    "    df = df_sum_by_brand[df_sum_by_brand.carModel == e]\n",
    "    result1 = seasonal_decompose(df['vehNumber'], model='multiplicative', period=12)\n",
    "    df_result = pd.DataFrame(result1.seasonal).reset_index()\n",
    "    df_result.insert(1, 'carModel',e)\n",
    "    df_result = df_result.dropna()\n",
    "    df_output = df_output.append(df_result)\n",
    "    clear_output(wait=True)"
   ]
  },
  {
   "cell_type": "code",
   "execution_count": 15,
   "id": "5988e73e",
   "metadata": {},
   "outputs": [],
   "source": [
    "df_output.to_csv('Reports/seasonal_decompose_byBrand.csv')"
   ]
  }
 ],
 "metadata": {
  "kernelspec": {
   "display_name": "Python 3",
   "language": "python",
   "name": "python3"
  },
  "language_info": {
   "codemirror_mode": {
    "name": "ipython",
    "version": 3
   },
   "file_extension": ".py",
   "mimetype": "text/x-python",
   "name": "python",
   "nbconvert_exporter": "python",
   "pygments_lexer": "ipython3",
   "version": "3.8.8"
  }
 },
 "nbformat": 4,
 "nbformat_minor": 5
}
